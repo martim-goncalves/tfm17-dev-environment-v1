{
 "cells": [
  {
   "cell_type": "markdown",
   "id": "179ce157",
   "metadata": {},
   "source": [
    "# RTAB-Map Comparison\n"
   ]
  },
  {
   "cell_type": "code",
   "execution_count": 1,
   "id": "12786f4d",
   "metadata": {},
   "outputs": [
    {
     "name": "stdout",
     "output_type": "stream",
     "text": [
      "Jupyter environment detected. Enabling Open3D WebVisualizer.\n",
      "[Open3D INFO] WebRTC GUI backend enabled.\n",
      "[Open3D INFO] WebRTCWindowSystem: HTTP handshake server disabled.\n"
     ]
    }
   ],
   "source": [
    "import os\n",
    "import open3d as o3d"
   ]
  },
  {
   "cell_type": "code",
   "execution_count": 2,
   "id": "2f4c44b1",
   "metadata": {},
   "outputs": [],
   "source": [
    "def view_pcl(filepath):\n",
    "    cloud = o3d.io.read_point_cloud(filepath)\n",
    "    o3d.visualization.draw_geometries([cloud])"
   ]
  },
  {
   "cell_type": "code",
   "execution_count": 3,
   "id": "48a3efad",
   "metadata": {},
   "outputs": [],
   "source": [
    "view_pcl('../_artifacts/rtabmap-cloud-1.pcd')\n",
    "view_pcl('../_artifacts/rtabmap-cloud-1.ply')"
   ]
  }
 ],
 "metadata": {
  "kernelspec": {
   "display_name": "_venv",
   "language": "python",
   "name": "python3"
  },
  "language_info": {
   "codemirror_mode": {
    "name": "ipython",
    "version": 3
   },
   "file_extension": ".py",
   "mimetype": "text/x-python",
   "name": "python",
   "nbconvert_exporter": "python",
   "pygments_lexer": "ipython3",
   "version": "3.12.3"
  }
 },
 "nbformat": 4,
 "nbformat_minor": 5
}
